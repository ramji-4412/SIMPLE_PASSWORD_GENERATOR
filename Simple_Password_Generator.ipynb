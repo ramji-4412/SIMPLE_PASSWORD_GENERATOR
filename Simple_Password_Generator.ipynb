{
  "nbformat": 4,
  "nbformat_minor": 0,
  "metadata": {
    "colab": {
      "provenance": [],
      "authorship_tag": "ABX9TyN4kwUjQAjW5RkF+DbyhLog",
      "include_colab_link": true
    },
    "kernelspec": {
      "name": "python3",
      "display_name": "Python 3"
    },
    "language_info": {
      "name": "python"
    }
  },
  "cells": [
    {
      "cell_type": "markdown",
      "metadata": {
        "id": "view-in-github",
        "colab_type": "text"
      },
      "source": [
        "<a href=\"https://colab.research.google.com/github/ramji-4412/SIMPLE_PASSWORD_GENERATOR/blob/main/Simple_Password_Generator.ipynb\" target=\"_parent\"><img src=\"https://colab.research.google.com/assets/colab-badge.svg\" alt=\"Open In Colab\"/></a>"
      ]
    },
    {
      "cell_type": "code",
      "execution_count": 1,
      "metadata": {
        "colab": {
          "base_uri": "https://localhost:8080/"
        },
        "id": "BTTjEH2XqyVs",
        "outputId": "adb20fff-b309-48f5-8beb-da83eb67fe86"
      },
      "outputs": [
        {
          "output_type": "stream",
          "name": "stdout",
          "text": [
            "Simple Password Generator\n",
            "\n",
            "\n",
            "Enter the desired length of password: 8\n",
            "Generated Password:  W0~BD~mF\n",
            "Passwrod Strength: Strong Password\n"
          ]
        }
      ],
      "source": [
        "import random\n",
        "import string\n",
        "\n",
        "def generate_password(length):\n",
        "  characters = string.ascii_letters + string.punctuation + string.digits\n",
        "  password = ''.join(random.choice(characters) for i in range(length))\n",
        "\n",
        "  return password\n",
        "\n",
        "def complexity(password):\n",
        "  cd = 0   # for digits\n",
        "  cl = 0   # for lowercase\n",
        "  cu = 0   # for uppercase\n",
        "  cs = 0   # for special characters\n",
        "  for i in password:\n",
        "    if i.isdigit():\n",
        "      cd += 1\n",
        "    elif i.islower():\n",
        "      cl += 1\n",
        "    elif i.isupper():\n",
        "      cu += 1\n",
        "    else:\n",
        "      cs += 1\n",
        "\n",
        "  if (cd!=0 and cl!=0 and cu!=0 and cs!=0) :\n",
        "    print(\"Passwrod Strength: Strong Password\")\n",
        "  elif (cd==0 or cs==0 or cu==0 or cl==0) :\n",
        "    print(\"Passwrod Strength: Weak Password\")\n",
        "\n",
        "print(\"Simple Password Generator\\n\\n\")\n",
        "length = int(input(\"Enter the desired length of password: \"))\n",
        "if length<=0:\n",
        "  print(\"Password lenght must be greater than 0.\")\n",
        "\n",
        "password = generate_password(length)\n",
        "print(\"Generated Password: \",password);\n",
        "complexity(password)\n"
      ]
    }
  ]
}